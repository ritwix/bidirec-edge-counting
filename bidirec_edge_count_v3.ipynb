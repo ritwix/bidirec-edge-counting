{
 "cells": [
  {
   "cell_type": "code",
   "execution_count": 1,
   "metadata": {},
   "outputs": [],
   "source": [
    "import networkx as nx\n",
    "import pandas as pd\n",
    "import numpy as np\n",
    "import math # for factorials"
   ]
  },
  {
   "cell_type": "code",
   "execution_count": 2,
   "metadata": {},
   "outputs": [
    {
     "name": "stdout",
     "output_type": "stream",
     "text": [
      "   source  target  month\n",
      "5       4       2      5\n",
      "6       4       2      6\n",
      "7       3       5      5\n",
      "8       5       3      4\n",
      "9       3       6      6\n",
      "\n",
      "    source  target  month\n",
      "10       1       4     13\n",
      "11       4       2     14\n",
      "12       2       4     15\n",
      "13       2       4     16\n",
      "14       5       3     16\n"
     ]
    }
   ],
   "source": [
    "#df = pd.read_csv('./SPREAD_food_networks/sn/results/networks/1.edges', sep=',', usecols = ['source', 'target', 'month'])\n",
    "df = pd.read_csv('graph.txt', sep = ' ')\n",
    "def dup_edges(graph_df, delta, period = 12):\n",
    "    \"\"\"Duplicate each edge with new timestamps i > period+i\"\"\" \n",
    "    \"\"\"CHANGE: now only duplicate edges until period + (delta-1)\"\"\"\n",
    "    # df containing only months to be duplicated (months < delta)\n",
    "    dup_in_delta = (graph_df.loc[graph_df['month'] < delta])\n",
    "    \n",
    "    return pd.concat([graph_df, \n",
    "                      pd.concat([dup_in_delta.iloc[:,[0, 1]], \n",
    "                                 dup_in_delta.iloc[:,[2]]+period], axis=1)], \n",
    "                                 ignore_index=True)\n",
    "# df = dup_edges(df)\n",
    "print(f'{df.tail()}\\n')\n",
    "d = dup_edges(df, delta = 5)\n",
    "print(d.tail())"
   ]
  },
  {
   "cell_type": "code",
   "execution_count": 3,
   "metadata": {},
   "outputs": [
    {
     "data": {
      "text/plain": [
       "{0: 1, 3: 4, 1: 2, 2: 3, 4: 5, 5: 6}"
      ]
     },
     "execution_count": 3,
     "metadata": {},
     "output_type": "execute_result"
    }
   ],
   "source": [
    "G = nx.from_pandas_edgelist(df, 'source', 'target', edge_attr='month', create_using=nx.MultiDiGraph)\n",
    "G = nx.convert_node_labels_to_integers(G, ordering='sorted', label_attribute = 'old_id')\n",
    "nx.get_node_attributes(G, 'old_id')\n"
   ]
  },
  {
   "cell_type": "code",
   "execution_count": 4,
   "metadata": {},
   "outputs": [
    {
     "data": {
      "text/plain": [
       "[(0, 3, {'month': 1}),\n",
       " (0, 3, {'month': 7}),\n",
       " (3, 1, {'month': 2}),\n",
       " (3, 1, {'month': 5}),\n",
       " (3, 1, {'month': 6}),\n",
       " (1, 3, {'month': 3}),\n",
       " (1, 3, {'month': 4}),\n",
       " (2, 4, {'month': 5}),\n",
       " (2, 5, {'month': 6}),\n",
       " (4, 2, {'month': 4})]"
      ]
     },
     "execution_count": 4,
     "metadata": {},
     "output_type": "execute_result"
    }
   ],
   "source": [
    "list(G.edges(data=True))"
   ]
  },
  {
   "cell_type": "code",
   "execution_count": 6,
   "metadata": {},
   "outputs": [
    {
     "data": {
      "text/plain": [
       "[(0, 3, {'month': 1, 'delta': {}}),\n",
       " (0, 3, {'month': 7, 'delta': {}}),\n",
       " (3, 1, {'month': 2, 'delta': {}}),\n",
       " (3, 1, {'month': 5, 'delta': {}}),\n",
       " (3, 1, {'month': 6, 'delta': {}}),\n",
       " (1, 3, {'month': 3, 'delta': {}}),\n",
       " (1, 3, {'month': 4, 'delta': {}}),\n",
       " (2, 4, {'month': 5, 'delta': {}}),\n",
       " (2, 5, {'month': 6, 'delta': {}}),\n",
       " (4, 2, {'month': 4, 'delta': {}})]"
      ]
     },
     "execution_count": 6,
     "metadata": {},
     "output_type": "execute_result"
    }
   ],
   "source": [
    "for e in G.edges(data=True):\n",
    "    e[2]['delta'] = {}\n",
    "list(G.edges(data=True))"
   ]
  },
  {
   "cell_type": "code",
   "execution_count": 19,
   "metadata": {},
   "outputs": [
    {
     "name": "stdout",
     "output_type": "stream",
     "text": [
      "{'t1': [1, 1, 1, 1, 1, 1, 1, 2, 2, 2, 2, 2, 2, 3, 3, 3, 3, 3, 4, 4, 4, 4, 5, 5, 5, 6, 6, 7], 't2': [1, 2, 3, 4, 5, 6, 7, 2, 3, 4, 5, 6, 7, 3, 4, 5, 6, 7, 4, 5, 6, 7, 5, 6, 7, 6, 7, 7], 'count': [0, 0, 0, 0, 0, 0, 0, 0, 0, 0, 0, 0, 0, 0, 0, 0, 0, 0, 0, 0, 0, 0, 0, 0, 0, 0, 0, 0]}\n"
     ]
    }
   ],
   "source": [
    "# create and fill the data structure for post processing\n",
    "struc = {'t1': [], 't2': [], 'count': []}\n",
    "# s choose 2 + s, in this case s=7\n",
    "num_pairs = 7 + math.factorial(7)/(2 * math.factorial(7-2))\n",
    "for i in range(int(num_pairs)):\n",
    "    struc['count'].append(0)\n",
    "for i in range(1, 8):\n",
    "    j = i\n",
    "    while j < 8:\n",
    "        struc['t1'].append(i)\n",
    "        struc['t2'].append(j)\n",
    "        j += 1\n",
    "print(struc)"
   ]
  },
  {
   "cell_type": "code",
   "execution_count": 12,
   "metadata": {},
   "outputs": [],
   "source": [
    "def bidirecCountAndStore(graph, delta):\n",
    "    \"\"\"\n",
    "    graph: a Time-Varying directed network.\n",
    "    delta: time-interval within which bidirectional edges must be counted.\n",
    "    for each edge with timestamp t, computes the number of reverse edges within t + delta and stores this in\n",
    "    its edge attribute.\n",
    "    Returns the graph with the additional edge attribute\n",
    "    \"\"\"\n",
    "    \n",
    "    edges = sorted(graph.edges(data=True), key=lambda t: t[2].get('month', 1))\n",
    "    bidirec_counts = []\n",
    "    for i in range(len(edges)):\n",
    "        count = 0\n",
    "        j = i# + 1\n",
    "        while j < len(edges):\n",
    "            if edges[j][2]['month'] > edges[i][2]['month'] + delta:\n",
    "                break\n",
    "            elif edges[j][0] == edges[i][1] and edges[j][1] == edges[i][0]:\n",
    "                count += 1\n",
    "            j += 1\n",
    "        edges[i][2]['delta'][str(delta)] = count\n",
    "        bidirec_counts.append(count)\n",
    "    return edges"
   ]
  },
  {
   "cell_type": "code",
   "execution_count": 13,
   "metadata": {},
   "outputs": [
    {
     "data": {
      "text/plain": [
       "[(0, 3, {'month': 1, 'delta': {'4': 0, '2': 0}}),\n",
       " (3, 1, {'month': 2, 'delta': {'4': 2, '2': 2}}),\n",
       " (1, 3, {'month': 3, 'delta': {'4': 2, '2': 1}}),\n",
       " (1, 3, {'month': 4, 'delta': {'4': 2, '2': 2}}),\n",
       " (4, 2, {'month': 4, 'delta': {'4': 1, '2': 1}}),\n",
       " (3, 1, {'month': 5, 'delta': {'4': 0, '2': 0}}),\n",
       " (2, 4, {'month': 5, 'delta': {'4': 0, '2': 0}}),\n",
       " (3, 1, {'month': 6, 'delta': {'4': 0, '2': 0}}),\n",
       " (2, 5, {'month': 6, 'delta': {'4': 0, '2': 0}}),\n",
       " (0, 3, {'month': 7, 'delta': {'4': 0, '2': 0}})]"
      ]
     },
     "execution_count": 13,
     "metadata": {},
     "output_type": "execute_result"
    }
   ],
   "source": [
    "G.edges(data=True)\n",
    "edges = bidirecCountAndStore(G, delta = 4)\n",
    "# relabel with original node ids\n",
    "bidirecCountAndStore(G, delta = 2)"
   ]
  },
  {
   "cell_type": "code",
   "execution_count": 9,
   "metadata": {},
   "outputs": [
    {
     "data": {
      "text/plain": [
       "[(1, 4, {'month': 1, 'delta': {'4': 0, '2': 0}}),\n",
       " (1, 4, {'month': 7, 'delta': {'4': 0, '2': 0}}),\n",
       " (4, 2, {'month': 2, 'delta': {'4': 2, '2': 2}}),\n",
       " (4, 2, {'month': 5, 'delta': {'4': 0, '2': 0}}),\n",
       " (4, 2, {'month': 6, 'delta': {'4': 0, '2': 0}}),\n",
       " (2, 4, {'month': 3, 'delta': {'4': 2, '2': 1}}),\n",
       " (2, 4, {'month': 4, 'delta': {'4': 2, '2': 2}}),\n",
       " (3, 5, {'month': 5, 'delta': {'4': 0, '2': 0}}),\n",
       " (3, 6, {'month': 6, 'delta': {'4': 0, '2': 0}}),\n",
       " (5, 3, {'month': 4, 'delta': {'4': 1, '2': 1}})]"
      ]
     },
     "execution_count": 9,
     "metadata": {},
     "output_type": "execute_result"
    }
   ],
   "source": [
    "G = nx.relabel_nodes(G, nx.get_node_attributes(G, 'old_id'), copy=True)\n",
    "list(G.edges(data=True))"
   ]
  },
  {
   "cell_type": "code",
   "execution_count": 9,
   "metadata": {},
   "outputs": [],
   "source": [
    "def get_bidirec_counts(graph, delta, node_pair):\n",
    "    \"\"\"\n",
    "    graph: MultiDiGraph with edge attribute 'delta' and key delta.\n",
    "    delta: time interval\n",
    "    node_pair: tuple: check birec edge counts between node pair\n",
    "    returns total number of bidirectional edges between node pair within given delta.\n",
    "    \"\"\"\n",
    "    count = 0\n",
    "    for e in graph.edges(data=True):\n",
    "        if (e[0] == node_pair[0] and e[1] == node_pair[1]) or (e[0] == node_pair[1] and e[1] == node_pair[0]):\n",
    "            count += e[2]['delta'][str(delta)]\n",
    "    return count"
   ]
  },
  {
   "cell_type": "code",
   "execution_count": 10,
   "metadata": {},
   "outputs": [
    {
     "data": {
      "text/plain": [
       "1"
      ]
     },
     "execution_count": 10,
     "metadata": {},
     "output_type": "execute_result"
    }
   ],
   "source": [
    "get_bidirec_counts(G, 4, (2, 4))"
   ]
  },
  {
   "cell_type": "code",
   "execution_count": 11,
   "metadata": {},
   "outputs": [
    {
     "name": "stdout",
     "output_type": "stream",
     "text": [
      "Help on function get_bidirec_counts in module __main__:\n",
      "\n",
      "get_bidirec_counts(graph, delta, node_pair)\n",
      "    graph: MultiDiGraph with edge attribute 'delta' and key delta.\n",
      "    delta: time interval\n",
      "    node_pair: tuple: check birec edge counts between node pair\n",
      "    returns total number of bidirectional edges between node pair within given delta.\n",
      "\n"
     ]
    }
   ],
   "source": [
    "help(get_bidirec_counts)"
   ]
  },
  {
   "cell_type": "code",
   "execution_count": null,
   "metadata": {},
   "outputs": [],
   "source": []
  }
 ],
 "metadata": {
  "kernelspec": {
   "display_name": "Python 3 (ipykernel)",
   "language": "python",
   "name": "python3"
  },
  "language_info": {
   "codemirror_mode": {
    "name": "ipython",
    "version": 3
   },
   "file_extension": ".py",
   "mimetype": "text/x-python",
   "name": "python",
   "nbconvert_exporter": "python",
   "pygments_lexer": "ipython3",
   "version": "3.8.10"
  }
 },
 "nbformat": 4,
 "nbformat_minor": 4
}
