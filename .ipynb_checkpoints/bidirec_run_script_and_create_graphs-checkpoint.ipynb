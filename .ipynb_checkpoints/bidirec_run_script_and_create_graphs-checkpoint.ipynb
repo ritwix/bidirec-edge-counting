{
 "cells": [
  {
   "cell_type": "code",
   "execution_count": 27,
   "id": "47030e67",
   "metadata": {},
   "outputs": [],
   "source": [
    "import matplotlib as plt\n",
    "import networkx as nx\n",
    "import pandas as pd\n",
    "import numpy as np\n",
    "import seaborn as sns"
   ]
  },
  {
   "cell_type": "code",
   "execution_count": 28,
   "id": "8354b821",
   "metadata": {},
   "outputs": [],
   "source": [
    "# run my script with different networks and deltas\n",
    "# for i in range(1, 7):\n",
    "#     out = f'out{i}.csv'\n",
    "#     !python3 bidirec_script.py graph2.txt 1 0 2 ' ' int(i) 6 out\n",
    "!python3 bidirec_script.py graph2.txt 1 0 2 ' ' 1 6 out_graph2_1.csv\n",
    "!python3 bidirec_script.py graph2.txt 1 0 2 ' ' 2 6 out_graph2_2.csv\n",
    "!python3 bidirec_script.py graph2.txt 1 0 2 ' ' 3 6 out_graph2_3.csv\n",
    "!python3 bidirec_script.py graph2.txt 1 0 2 ' ' 4 6 out_graph2_4.csv\n",
    "!python3 bidirec_script.py graph2.txt 1 0 2 ' ' 5 6 out_graph2_5.csv\n",
    "!python3 bidirec_script.py graph2.txt 1 0 2 ' ' 6 6 out_graph2_6.csv"
   ]
  },
  {
   "cell_type": "code",
   "execution_count": 29,
   "id": "cb76ba02",
   "metadata": {},
   "outputs": [],
   "source": [
    "# read csvs together, use pd.concat to put them together\n",
    "# df containing the info for graph2.txt with a delta=1\n",
    "graph2_d_1 = pd.read_csv('out_graph2_1.csv')\n",
    "# similar for the rest of these\n",
    "graph2_d_2 = pd.read_csv('out_graph2_2.csv')\n",
    "graph2_d_3 = pd.read_csv('out_graph2_3.csv')\n",
    "graph2_d_4 = pd.read_csv('out_graph2_4.csv')\n",
    "graph2_d_5 = pd.read_csv('out_graph2_5.csv')\n",
    "graph2_d_6 = pd.read_csv('out_graph2_6.csv')\n",
    "\n"
   ]
  },
  {
   "cell_type": "code",
   "execution_count": null,
   "id": "125b8311",
   "metadata": {},
   "outputs": [],
   "source": [
    "# plot these graphs\n"
   ]
  }
 ],
 "metadata": {
  "kernelspec": {
   "display_name": "Python 3 (ipykernel)",
   "language": "python",
   "name": "python3"
  },
  "language_info": {
   "codemirror_mode": {
    "name": "ipython",
    "version": 3
   },
   "file_extension": ".py",
   "mimetype": "text/x-python",
   "name": "python",
   "nbconvert_exporter": "python",
   "pygments_lexer": "ipython3",
   "version": "3.8.10"
  }
 },
 "nbformat": 4,
 "nbformat_minor": 5
}
