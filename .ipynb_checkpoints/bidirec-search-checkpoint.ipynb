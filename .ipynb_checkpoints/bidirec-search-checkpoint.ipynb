{
 "cells": [
  {
   "cell_type": "code",
   "execution_count": 1,
   "metadata": {},
   "outputs": [],
   "source": [
    "import networkx as nx\n",
    "import pandas as pd\n",
    "import numpy as np"
   ]
  },
  {
   "cell_type": "code",
   "execution_count": 62,
   "metadata": {},
   "outputs": [
    {
     "name": "stdout",
     "output_type": "stream",
     "text": [
      "   source  destination  timestamp\n",
      "0       0            2          2\n",
      "1       1            0          2\n",
      "2       1            3          3\n",
      "3       0            1          4\n",
      "4       1            2          4\n",
      "5       0            2          4\n",
      "6       0            1          6\n",
      "7       1            0          7\n",
      "[(0, 2, 0), (0, 2, 1), (0, 1, 0), (0, 1, 1), (1, 0, 0), (1, 0, 1), (1, 3, 0), (1, 2, 0)]\n"
     ]
    }
   ],
   "source": [
    "df = pd.read_csv('graph.txt', sep=' ')\n",
    "df = df.sort_values(by= ['timestamp']).reset_index(drop=True)\n",
    "print(df)\n",
    "G = nx.from_pandas_edgelist(df, 'source', 'destination', edge_attr='timestamp', create_using=nx.MultiDiGraph)\n",
    "print(list(G.edges))"
   ]
  },
  {
   "cell_type": "code",
   "execution_count": 63,
   "metadata": {},
   "outputs": [
    {
     "name": "stdout",
     "output_type": "stream",
     "text": [
      "{0: {2: {0: {'timestamp': 2}, 1: {'timestamp': 4}}, 1: {0: {'timestamp': 4}, 1: {'timestamp': 6}}}, 2: {}, 1: {0: {0: {'timestamp': 2}, 1: {'timestamp': 7}}, 3: {0: {'timestamp': 3}}, 2: {0: {'timestamp': 4}}}, 3: {}}\n"
     ]
    }
   ],
   "source": [
    "G = nx.convert_node_labels_to_integers(G, ordering='sorted')\n",
    "print(G.adj)\n"
   ]
  },
  {
   "cell_type": "code",
   "execution_count": 71,
   "metadata": {},
   "outputs": [
    {
     "data": {
      "text/plain": [
       "[(0, 2, {'timestamp': 2, 'bidir_count': 0}),\n",
       " (1, 0, {'timestamp': 2, 'bidir_count': 2}),\n",
       " (1, 3, {'timestamp': 3, 'bidir_count': 0}),\n",
       " (0, 2, {'timestamp': 4, 'bidir_count': 0}),\n",
       " (0, 1, {'timestamp': 4, 'bidir_count': 1}),\n",
       " (1, 2, {'timestamp': 4, 'bidir_count': 0}),\n",
       " (0, 1, {'timestamp': 6, 'bidir_count': 1}),\n",
       " (1, 0, {'timestamp': 7, 'bidir_count': 0})]"
      ]
     },
     "execution_count": 71,
     "metadata": {},
     "output_type": "execute_result"
    }
   ],
   "source": [
    "edges = sorted(G.edges(data=True), key=lambda t: t[2].get('timestamp', 1))\n",
    "\n",
    "delta = 10\n",
    "bidirec_counts = []\n",
    "for i in range(len(edges)):\n",
    "    count = 0\n",
    "    j = i + 1\n",
    "    while j < len(edges):\n",
    "        if edges[j][2]['timestamp'] > edges[i][2]['timestamp'] + delta:\n",
    "            break\n",
    "        if edges[j][0] == edges[i][1] and edges[j][1] == edges[i][0]:\n",
    "            count += 1\n",
    "        j+=1\n",
    "    edges[i][2]['bidir_count'] = count\n",
    "    bidirec_counts.append(count)\n",
    "#print(bidirec_counts)\n",
    "edges"
   ]
  }
 ],
 "metadata": {
  "kernelspec": {
   "display_name": "Python 3.8",
   "language": "python",
   "name": "python-3.8"
  },
  "language_info": {
   "codemirror_mode": {
    "name": "ipython",
    "version": 3
   },
   "file_extension": ".py",
   "mimetype": "text/x-python",
   "name": "python",
   "nbconvert_exporter": "python",
   "pygments_lexer": "ipython3",
   "version": "3.8.8"
  }
 },
 "nbformat": 4,
 "nbformat_minor": 4
}
