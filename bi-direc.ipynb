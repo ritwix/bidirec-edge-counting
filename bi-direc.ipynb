{
 "cells": [
  {
   "cell_type": "markdown",
   "metadata": {},
   "source": [
    "Write a function $f(\\delta, t)$ which counts the number of bi-directional edges in a $\\delta$ interval starting at $t$.\n",
    "\n",
    "1. Read graph in as a dataframe source, dest, timestamp\n",
    "2. Add code to duplicate each edge timestamp with period input : i -> p + i\n",
    "3. Go through the edges in sorted order from given input t till interval $\\delta$.\n",
    "4. Count number of edges in this bucket. $C_1$.\n",
    "5. Sort by the destination node.\n",
    "6. Drop duplicates.\n",
    "7. Count the number of edges. $C_2$.\n",
    "8. Number of bi-direc edges in ($\\delta, t)$ is $C_1 - C_2$."
   ]
  },
  {
   "cell_type": "code",
   "execution_count": 1,
   "metadata": {},
   "outputs": [],
   "source": [
    "import pandas as pd\n",
    "import numpy as np"
   ]
  },
  {
   "cell_type": "code",
   "execution_count": 2,
   "metadata": {},
   "outputs": [
    {
     "name": "stdout",
     "output_type": "stream",
     "text": [
      "   source  destination  timestamp\n",
      "0       0            2          2\n",
      "1       1            0          2\n",
      "2       0            1          4\n",
      "3       1            2          4\n",
      "4       0            2          4\n",
      "5       1            3          3\n"
     ]
    }
   ],
   "source": [
    "graph_df = pd.read_csv('graph.txt', sep=\" \")\n",
    "print(graph_df)"
   ]
  },
  {
   "cell_type": "code",
   "execution_count": 3,
   "metadata": {},
   "outputs": [],
   "source": [
    "def dup_edges(graph_df, period = 12):\n",
    "    \"\"\"Duplicate each edge with new timestamps i > period+i\"\"\"    \n",
    "    return pd.concat([graph_df, pd.concat([graph_df.iloc[:,[0, 1]], graph_df.iloc[:,[2]]+period], axis=1)], ignore_index=True)"
   ]
  },
  {
   "cell_type": "code",
   "execution_count": 4,
   "metadata": {},
   "outputs": [
    {
     "name": "stdout",
     "output_type": "stream",
     "text": [
      "0 11\n",
      "    source  destination  timestamp\n",
      "0        0            2          2\n",
      "0        0            1          2\n",
      "2        1            3          3\n",
      "3        0            1          4\n",
      "4        1            2          4\n",
      "5        0            2          4\n",
      "6        0            2         14\n",
      "1        0            1         14\n",
      "8        1            3         15\n",
      "9        0            1         16\n",
      "10       1            2         16\n"
     ]
    },
    {
     "data": {
      "text/plain": [
       "7"
      ]
     },
     "execution_count": 4,
     "metadata": {},
     "output_type": "execute_result"
    }
   ],
   "source": [
    "def bi_direc_count(graph_df, delta, t):\n",
    "    g_df_sorted = dup_edges(graph_df).sort_values(by= 'timestamp', ignore_index =True)\n",
    "    iterator = g_df_sorted.iterrows()\n",
    "    start_index = -1\n",
    "    end_index = -1\n",
    "    for row in iterator:\n",
    "        if row[1]['timestamp'] >= t:\n",
    "            start_index = row[0]\n",
    "            break\n",
    "    for row in iterator:\n",
    "        if row[1]['timestamp'] <= delta + t:\n",
    "            end_index = row[0]\n",
    "    print(start_index, end_index)\n",
    "    if start_index == -1:\n",
    "        print('None')\n",
    "        return\n",
    "    seq_df = g_df_sorted.iloc[start_index:end_index]\n",
    "    c_1 = len(seq_df.index)\n",
    "    seq_list_2 = []\n",
    "    for row in seq_df.iterrows():\n",
    "        if row[1]['source'] > row[1]['destination']:\n",
    "            d = pd.Series({'source': row[1]['destination'], \n",
    "                       'destination': row[1]['source'], \n",
    "                       'timestamp': row[1]['timestamp']})\n",
    "        else:\n",
    "            d = row[1]\n",
    "        seq_list_2.append(d)\n",
    "    seq_df_2 = pd.concat(seq_list_2, axis=1).transpose()\n",
    "    print(seq_df_2)\n",
    "    c_2 = len(seq_df_2.drop_duplicates(subset = ['source', 'destination']).index)\n",
    "    return c_1 - c_2\n",
    "\n",
    "\n",
    "bi_direc_count(graph_df, 20, 2)\n"
   ]
  },
  {
   "cell_type": "markdown",
   "metadata": {},
   "source": [
    "Edges in same direction are being counted."
   ]
  },
  {
   "cell_type": "code",
   "execution_count": null,
   "metadata": {},
   "outputs": [],
   "source": []
  },
  {
   "cell_type": "code",
   "execution_count": null,
   "metadata": {},
   "outputs": [],
   "source": []
  },
  {
   "cell_type": "code",
   "execution_count": null,
   "metadata": {},
   "outputs": [],
   "source": []
  }
 ],
 "metadata": {
  "kernelspec": {
   "display_name": "Python 3.8",
   "language": "python",
   "name": "python-3.8"
  },
  "language_info": {
   "codemirror_mode": {
    "name": "ipython",
    "version": 3
   },
   "file_extension": ".py",
   "mimetype": "text/x-python",
   "name": "python",
   "nbconvert_exporter": "python",
   "pygments_lexer": "ipython3",
   "version": "3.8.8"
  }
 },
 "nbformat": 4,
 "nbformat_minor": 4
}
