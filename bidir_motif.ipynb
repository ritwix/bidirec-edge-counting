{
 "cells": [
  {
   "cell_type": "markdown",
   "metadata": {},
   "source": [
    "sort all edges based on timestamps  \n",
    "collect edge-lists in delta-interval  \n",
    "drop duplicates in each edge-list  \n",
    "sort each based on end-points  \n",
    "number of bidrirectional edges= df-old - df-new  "
   ]
  },
  {
   "cell_type": "code",
   "execution_count": 2,
   "metadata": {},
   "outputs": [],
   "source": [
    "import pandas as pd\n",
    "import numpy as np\n"
   ]
  },
  {
   "cell_type": "code",
   "execution_count": 16,
   "metadata": {},
   "outputs": [
    {
     "name": "stdout",
     "output_type": "stream",
     "text": [
      "   out_node  in_node  timestamp\n",
      "0         0        2          2\n",
      "1         1        0          2\n",
      "2         0        1          4\n",
      "3         1        2          4\n",
      "4         0        2          4\n",
      "5         1        3          3\n"
     ]
    }
   ],
   "source": [
    "graph = pd.read_csv('graph.txt', sep=' ')\n",
    "print(graph)"
   ]
  },
  {
   "cell_type": "code",
   "execution_count": 63,
   "metadata": {},
   "outputs": [
    {
     "name": "stdout",
     "output_type": "stream",
     "text": [
      "   out_node  in_node  timestamp\n",
      "0         0        2          2\n",
      "1         1        0          2\n",
      "2         1        3          3\n",
      "3         0        1          4\n",
      "4         1        2          4\n",
      "5         0        2          4\n",
      "out_node     0\n",
      "in_node      2\n",
      "timestamp    4\n",
      "Name: 5, dtype: int64\n",
      "Empty DataFrame\n",
      "Columns: []\n",
      "Index: []\n",
      "[[0 2 2]\n",
      " [1 0 2]\n",
      " [1 3 3]\n",
      " [0 1 4]\n",
      " [1 2 4]\n",
      " [0 2 4]]\n"
     ]
    }
   ],
   "source": [
    "graph_sorted_time = graph.sort_values(by= ['timestamp'])\n",
    "graph_sorted_time = graph_sorted_time.reset_index(drop=True)\n",
    "print(graph_sorted_time)\n",
    "df = pd.DataFrame(dtype=np.int32)\n",
    "print(graph_sorted_time.loc[5])\n",
    "df.append(graph_sorted_time.loc[2])\n",
    "print(df)\n",
    "gst_np = graph_sorted_time.to_numpy()\n",
    "print(gst_np)\n",
    "timestamps = gst_np[:,2]\n",
    "# timestamps"
   ]
  },
  {
   "cell_type": "code",
   "execution_count": 62,
   "metadata": {},
   "outputs": [
    {
     "name": "stdout",
     "output_type": "stream",
     "text": [
      "   out_node  in_node  timestamp\n",
      "0         0        2          2\n",
      "1         1        0          2\n",
      "2         1        3          3\n",
      "   out_node  in_node  timestamp\n",
      "2         1        3          3\n",
      "3         0        1          4\n",
      "4         1        2          4\n",
      "5         0        2          4\n"
     ]
    }
   ],
   "source": [
    "delta = 2\n",
    "\n",
    "start_time_index = 0\n",
    "end_time_index = 1\n",
    "col = []\n",
    "while start_time_index < timestamps.size-1:\n",
    "    col_row = [graph_sorted_time.iloc[start_time_index]]\n",
    "    \n",
    "    while end_time_index < timestamps.size and timestamps[end_time_index] < timestamps[start_time_index] + delta:\n",
    "        col_row.append(graph_sorted_time.iloc[end_time_index])\n",
    "        end_time_index += 1\n",
    "        #print(start_time_index, end_time_index)\n",
    "    if len(col_row) > 1:\n",
    "        #print(col_row)\n",
    "        df = pd.concat(col_row, axis=1).transpose()\n",
    "        print(df)\n",
    "        col.append(df)\n",
    "    if end_time_index != timestamps.size:\n",
    "        start_time_index += 1\n",
    "        if(end_time_index <= start_time_index):\n",
    "            end_time_index = start_time_index + 1\n",
    "    else: break\n",
    "        \n",
    "\n",
    "\n",
    "\n",
    "\n",
    "\n",
    "#edge_list_collection = collectInDelta(delta)"
   ]
  },
  {
   "cell_type": "code",
   "execution_count": 57,
   "metadata": {},
   "outputs": [
    {
     "data": {
      "text/html": [
       "<div>\n",
       "<style scoped>\n",
       "    .dataframe tbody tr th:only-of-type {\n",
       "        vertical-align: middle;\n",
       "    }\n",
       "\n",
       "    .dataframe tbody tr th {\n",
       "        vertical-align: top;\n",
       "    }\n",
       "\n",
       "    .dataframe thead th {\n",
       "        text-align: right;\n",
       "    }\n",
       "</style>\n",
       "<table border=\"1\" class=\"dataframe\">\n",
       "  <thead>\n",
       "    <tr style=\"text-align: right;\">\n",
       "      <th></th>\n",
       "      <th>out_node</th>\n",
       "      <th>in_node</th>\n",
       "      <th>timestamp</th>\n",
       "    </tr>\n",
       "  </thead>\n",
       "  <tbody>\n",
       "    <tr>\n",
       "      <th>0</th>\n",
       "      <td>0</td>\n",
       "      <td>2</td>\n",
       "      <td>2</td>\n",
       "    </tr>\n",
       "    <tr>\n",
       "      <th>1</th>\n",
       "      <td>1</td>\n",
       "      <td>0</td>\n",
       "      <td>2</td>\n",
       "    </tr>\n",
       "    <tr>\n",
       "      <th>2</th>\n",
       "      <td>1</td>\n",
       "      <td>3</td>\n",
       "      <td>3</td>\n",
       "    </tr>\n",
       "  </tbody>\n",
       "</table>\n",
       "</div>"
      ],
      "text/plain": [
       "   out_node  in_node  timestamp\n",
       "0         0        2          2\n",
       "1         1        0          2\n",
       "2         1        3          3"
      ]
     },
     "execution_count": 57,
     "metadata": {},
     "output_type": "execute_result"
    }
   ],
   "source": [
    "for delta_df in col:\n",
    "    count_orig = delta_df.count()\n",
    "    delta_df delta_df.drop_duplicates(['out_node', 'in_node'])\n",
    "    "
   ]
  }
 ],
 "metadata": {
  "kernelspec": {
   "display_name": "Python 3.8",
   "language": "python",
   "name": "python-3.8"
  },
  "language_info": {
   "codemirror_mode": {
    "name": "ipython",
    "version": 3
   },
   "file_extension": ".py",
   "mimetype": "text/x-python",
   "name": "python",
   "nbconvert_exporter": "python",
   "pygments_lexer": "ipython3",
   "version": "3.8.8"
  }
 },
 "nbformat": 4,
 "nbformat_minor": 4
}
