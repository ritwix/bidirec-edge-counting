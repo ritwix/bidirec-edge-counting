{
 "cells": [
  {
   "cell_type": "code",
   "execution_count": 2,
   "id": "1f6d2674",
   "metadata": {},
   "outputs": [],
   "source": [
    "import matplotlib as plt"
   ]
  },
  {
   "cell_type": "code",
   "execution_count": 9,
   "id": "74fc4b83",
   "metadata": {},
   "outputs": [],
   "source": [
    "# run my script with different networks and deltas\n",
    "\n",
    "%run bidirec_script.py graph2.txt 1 0 2 ' ' 2 6 test2.csv"
   ]
  },
  {
   "cell_type": "code",
   "execution_count": null,
   "id": "296931a5",
   "metadata": {},
   "outputs": [],
   "source": []
  }
 ],
 "metadata": {
  "kernelspec": {
   "display_name": "Python 3 (ipykernel)",
   "language": "python",
   "name": "python3"
  },
  "language_info": {
   "codemirror_mode": {
    "name": "ipython",
    "version": 3
   },
   "file_extension": ".py",
   "mimetype": "text/x-python",
   "name": "python",
   "nbconvert_exporter": "python",
   "pygments_lexer": "ipython3",
   "version": "3.8.10"
  }
 },
 "nbformat": 4,
 "nbformat_minor": 5
}
