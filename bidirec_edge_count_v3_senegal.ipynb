{
 "cells": [
  {
   "cell_type": "code",
   "execution_count": 3,
   "metadata": {},
   "outputs": [],
   "source": [
    "import networkx as nx\n",
    "import pandas as pd\n",
    "import numpy as np"
   ]
  },
  {
   "cell_type": "code",
   "execution_count": 11,
   "metadata": {},
   "outputs": [
    {
     "name": "stdout",
     "output_type": "stream",
     "text": [
      "    source  target  month\n",
      "0      1.0     4.0      1\n",
      "1      1.0     4.0      7\n",
      "2      4.0     2.0      2\n",
      "3      2.0     4.0      3\n",
      "4      2.0     4.0      4\n",
      "5      4.0     2.0      5\n",
      "6      4.0     2.0      6\n",
      "7      3.0     5.0      5\n",
      "8      5.0     3.0      4\n",
      "9      3.0     6.0      6\n",
      "10     1.0     4.0     13\n",
      "11     1.0     4.0     19\n",
      "12     4.0     2.0     14\n",
      "13     NaN     NaN     15\n",
      "14     NaN     NaN     16\n",
      "15     NaN     NaN     17\n",
      "16     NaN     NaN     18\n",
      "17     NaN     NaN     17\n",
      "18     NaN     NaN     16\n",
      "19     NaN     NaN     18\n"
     ]
    }
   ],
   "source": [
    "# df = pd.read_csv('../SPREAD_food_networks/sn/results/networks/1.edges', sep=',', usecols = ['source', 'target', 'month'])\n",
    "df = pd.read_csv('graph.txt', sep = ' ')\n",
    "def dup_edges(graph_df, delta, period = 12):\n",
    "    \"\"\"Duplicate each edge with new timestamps i > period+i\"\"\" \n",
    "    \"\"\"CHANGE: now only duplicate edges until period + (delta-1)\"\"\"\n",
    "    # df containing only months to be duplicated (months < delta)\n",
    "    dup_in_delta = (graph_df.loc[graph_df['month'] < delta])\n",
    "    \n",
    "    return pd.concat([graph_df, \n",
    "                      pd.concat([dup_in_delta.iloc[:,[0, 1]], \n",
    "                                 dup_in_delta.iloc[:,[2]]+period], axis=1)], \n",
    "                                 ignore_index=True)\n",
    "df = dup_edges(df, 3)\n",
    "print(df)"
   ]
  },
  {
   "cell_type": "code",
   "execution_count": 3,
   "metadata": {},
   "outputs": [
    {
     "data": {
      "text/plain": [
       "{0: 1228208,\n",
       " 1: 1228209,\n",
       " 9: 1228217,\n",
       " 2: 1228210,\n",
       " 4: 1228212,\n",
       " 5: 1228213,\n",
       " 6: 1228214,\n",
       " 7: 1228215,\n",
       " 8: 1228216,\n",
       " 10: 1228218,\n",
       " 11: 1228219,\n",
       " 13: 1228221,\n",
       " 3: 1228211,\n",
       " 12: 1228220}"
      ]
     },
     "execution_count": 3,
     "metadata": {},
     "output_type": "execute_result"
    }
   ],
   "source": [
    "G = nx.from_pandas_edgelist(df, 'source', 'target', edge_attr='month', create_using=nx.MultiDiGraph)\n",
    "G = nx.convert_node_labels_to_integers(G, ordering='sorted', label_attribute = 'old_id')\n",
    "nx.get_node_attributes(G, 'old_id')\n"
   ]
  },
  {
   "cell_type": "code",
   "execution_count": 4,
   "metadata": {},
   "outputs": [
    {
     "data": {
      "text/plain": [
       "[(0, 1, {'month': 3}),\n",
       " (0, 1, {'month': 4}),\n",
       " (0, 1, {'month': 5}),\n",
       " (0, 1, {'month': 6}),\n",
       " (0, 1, {'month': 15})]"
      ]
     },
     "execution_count": 4,
     "metadata": {},
     "output_type": "execute_result"
    }
   ],
   "source": [
    "list(G.edges(data=True))[0:5]"
   ]
  },
  {
   "cell_type": "code",
   "execution_count": 5,
   "metadata": {},
   "outputs": [],
   "source": [
    "for e in G.edges(data=True):\n",
    "    e[2]['delta'] = {}"
   ]
  },
  {
   "cell_type": "code",
   "execution_count": 6,
   "metadata": {},
   "outputs": [],
   "source": [
    "def bidirecCountAndStore(graph, delta):\n",
    "    \"\"\"\n",
    "    graph: a Time-Varying directed network.\n",
    "    delta: time-interval within which bidirectional edges must be counted.\n",
    "    for each edge with timestamp t, computes the number of reverse edges within t + delta and stores this in\n",
    "    its edge attribute.\n",
    "    Returns the graph with the additional edge attribute\n",
    "    \"\"\"\n",
    "    \n",
    "    edges = sorted(graph.edges(data=True), key=lambda t: t[2].get('month', 1))\n",
    "    bidirec_counts = []\n",
    "    for i in range(len(edges)):\n",
    "        count = 0\n",
    "        j = i + 1\n",
    "        while j < len(edges):\n",
    "            if edges[j][2]['month'] > edges[i][2]['month'] + delta:\n",
    "                break\n",
    "            elif edges[j][0] == edges[i][1] and edges[j][1] == edges[i][0]:\n",
    "                count += 1\n",
    "            j += 1\n",
    "        edges[i][2]['delta'][str(delta)] = count\n",
    "        bidirec_counts.append(count)\n",
    "    return edges"
   ]
  },
  {
   "cell_type": "code",
   "execution_count": 7,
   "metadata": {},
   "outputs": [],
   "source": [
    "G.edges(data=True)\n",
    "edges = bidirecCountAndStore(G, delta = 4)\n",
    "# relabel with original node ids\n",
    "bidirecCountAndStore(G, delta = 2)\n",
    "G = nx.relabel_nodes(G, nx.get_node_attributes(G, 'old_id'), copy=True)\n",
    "#list(G.edges(data=True))[0:5]\n"
   ]
  },
  {
   "cell_type": "code",
   "execution_count": 8,
   "metadata": {},
   "outputs": [],
   "source": [
    "out_df = nx.to_pandas_edgelist(G, source='source', target='target')\n",
    "out_df.head()\n",
    "out_df.to_csv('graph_with_counts.csv')"
   ]
  },
  {
   "cell_type": "code",
   "execution_count": 9,
   "metadata": {},
   "outputs": [],
   "source": [
    "def get_bidirec_counts(graph, delta, node_pair):\n",
    "    \"\"\"\n",
    "    graph: MultiDiGraph with edge attribute 'delta' and key delta.\n",
    "    delta: time interval\n",
    "    node_pair: tuple: check birec edge counts between node pair\n",
    "    returns total number of bidirectional edges between node pair within given delta.\n",
    "    \"\"\"\n",
    "    count = 0\n",
    "    for e in graph.edges(data=True):\n",
    "        if (e[0] == node_pair[0] and e[1] == node_pair[1]) or (e[0] == node_pair[1] and e[1] == node_pair[0]):\n",
    "            count += e[2]['delta'][str(delta)]\n",
    "    return count"
   ]
  },
  {
   "cell_type": "code",
   "execution_count": 10,
   "metadata": {},
   "outputs": [
    {
     "data": {
      "text/plain": [
       "196"
      ]
     },
     "execution_count": 10,
     "metadata": {},
     "output_type": "execute_result"
    }
   ],
   "source": [
    "get_bidirec_counts(G, 4, (1228209,1228219))"
   ]
  }
 ],
 "metadata": {
  "kernelspec": {
   "display_name": "Python 3 (ipykernel)",
   "language": "python",
   "name": "python3"
  },
  "language_info": {
   "codemirror_mode": {
    "name": "ipython",
    "version": 3
   },
   "file_extension": ".py",
   "mimetype": "text/x-python",
   "name": "python",
   "nbconvert_exporter": "python",
   "pygments_lexer": "ipython3",
   "version": "3.8.10"
  }
 },
 "nbformat": 4,
 "nbformat_minor": 4
}
