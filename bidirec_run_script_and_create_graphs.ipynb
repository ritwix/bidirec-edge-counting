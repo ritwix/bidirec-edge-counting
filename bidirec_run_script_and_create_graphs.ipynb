{
 "cells": [
  {
   "cell_type": "code",
   "execution_count": 34,
   "id": "3d42c4b9",
   "metadata": {},
   "outputs": [],
   "source": [
    "import matplotlib as plt\n",
    "import networkx as nx\n",
    "import pandas as pd\n",
    "import numpy as np\n",
    "import seaborn as sns"
   ]
  },
  {
   "cell_type": "code",
   "execution_count": 35,
   "id": "9bff7b93",
   "metadata": {},
   "outputs": [],
   "source": [
    "# run my script with different networks and deltas\n",
    "# for i in range(1, 7):\n",
    "#     out = f'out{i}.csv'\n",
    "#     !python3 bidirec_script.py graph2.txt 1 0 2 ' ' int(i) 6 out\n",
    "!python3 bidirec_script.py graph2.txt 1 0 2 ' ' 1 6 out_graph2_1.csv\n",
    "!python3 bidirec_script.py graph2.txt 1 0 2 ' ' 2 6 out_graph2_2.csv\n",
    "!python3 bidirec_script.py graph2.txt 1 0 2 ' ' 3 6 out_graph2_3.csv\n",
    "!python3 bidirec_script.py graph2.txt 1 0 2 ' ' 4 6 out_graph2_4.csv\n",
    "!python3 bidirec_script.py graph2.txt 1 0 2 ' ' 5 6 out_graph2_5.csv\n",
    "!python3 bidirec_script.py graph2.txt 1 0 2 ' ' 6 6 out_graph2_6.csv"
   ]
  },
  {
   "cell_type": "code",
   "execution_count": 36,
   "id": "0699328f",
   "metadata": {},
   "outputs": [
    {
     "name": "stdout",
     "output_type": "stream",
     "text": [
      "    t1  t2  count  delta\n",
      "0    1   1      0      1\n",
      "1    1   2      2      1\n",
      "2    1   3      0      1\n",
      "3    1   4      0      1\n",
      "4    1   5      0      1\n",
      "5    1   6      0      1\n",
      "6    1   7      0      1\n",
      "7    2   2      0      1\n",
      "8    2   3      0      1\n",
      "9    2   4      0      1\n",
      "10   2   5      0      1\n",
      "11   2   6      0      1\n",
      "12   2   7      0      1\n",
      "13   3   3      0      1\n",
      "14   3   4      1      1\n",
      "15   3   5      0      1\n",
      "16   3   6      0      1\n",
      "17   3   7      0      1\n",
      "18   4   4      0      1\n",
      "19   4   5      0      1\n",
      "20   4   6      0      1\n",
      "21   4   7      0      1\n",
      "22   5   5      0      1\n",
      "23   5   6      0      1\n",
      "24   5   7      0      1\n",
      "25   6   6      0      1\n",
      "26   6   7      0      1\n"
     ]
    }
   ],
   "source": [
    "# read csvs together, use pd.concat to put them together\n",
    "# df containing the info for graph2.txt with a delta=1\n",
    "graph2_d_1 = pd.read_csv('out_graph2_1.csv')\n",
    "print(graph2_d_1)\n",
    "# similar for the rest of these\n",
    "graph2_d_2 = pd.read_csv('out_graph2_2.csv')\n",
    "graph2_d_3 = pd.read_csv('out_graph2_3.csv')\n",
    "graph2_d_4 = pd.read_csv('out_graph2_4.csv')\n",
    "graph2_d_5 = pd.read_csv('out_graph2_5.csv')\n",
    "graph2_d_6 = pd.read_csv('out_graph2_6.csv')\n",
    "\n"
   ]
  },
  {
   "cell_type": "code",
   "execution_count": null,
   "id": "8792a654",
   "metadata": {},
   "outputs": [],
   "source": [
    "# plot these graphs\n"
   ]
  }
 ],
 "metadata": {
  "kernelspec": {
   "display_name": "Python 3 (ipykernel)",
   "language": "python",
   "name": "python3"
  },
  "language_info": {
   "codemirror_mode": {
    "name": "ipython",
    "version": 3
   },
   "file_extension": ".py",
   "mimetype": "text/x-python",
   "name": "python",
   "nbconvert_exporter": "python",
   "pygments_lexer": "ipython3",
   "version": "3.8.10"
  }
 },
 "nbformat": 4,
 "nbformat_minor": 5
}
